{
  "nbformat": 4,
  "nbformat_minor": 0,
  "metadata": {
    "colab": {
      "provenance": [],
      "toc_visible": true,
      "authorship_tag": "ABX9TyO9bB/bwyzz2j1CCkl2TRun",
      "include_colab_link": true
    },
    "kernelspec": {
      "name": "python3",
      "display_name": "Python 3"
    },
    "language_info": {
      "name": "python"
    }
  },
  "cells": [
    {
      "cell_type": "markdown",
      "metadata": {
        "id": "view-in-github",
        "colab_type": "text"
      },
      "source": [
        "<a href=\"https://colab.research.google.com/github/fodothing/ImprovedWord2Vec/blob/main/ImporvedWord2Vec.ipynb\" target=\"_parent\"><img src=\"https://colab.research.google.com/assets/colab-badge.svg\" alt=\"Open In Colab\"/></a>"
      ]
    },
    {
      "cell_type": "markdown",
      "source": [
        "#Prerequisities"
      ],
      "metadata": {
        "id": "eSp5gQ8RoJJp"
      }
    },
    {
      "cell_type": "code",
      "execution_count": 1,
      "metadata": {
        "id": "vAWfX8hanVqv",
        "colab": {
          "base_uri": "https://localhost:8080/"
        },
        "outputId": "2fe8ffcd-68a0-4fa3-fbb8-848c6465cd50"
      },
      "outputs": [
        {
          "output_type": "stream",
          "name": "stderr",
          "text": [
            "D:\\ProgramData\\Anaconda3\\envs\\hshuai\\lib\\site-packages\\tqdm\\auto.py:22: TqdmWarning: IProgress not found. Please update jupyter and ipywidgets. See https://ipywidgets.readthedocs.io/en/stable/user_install.html\n",
            "  from .autonotebook import tqdm as notebook_tqdm\n",
            "D:\\ProgramData\\Anaconda3\\envs\\hshuai\\lib\\site-packages\\scipy\\__init__.py:146: UserWarning: A NumPy version >=1.16.5 and <1.23.0 is required for this version of SciPy (detected version 1.23.4\n",
            "  warnings.warn(f\"A NumPy version >={np_minversion} and <{np_maxversion}\"\n"
          ]
        }
      ],
      "source": [
        "# Import Libraries\n",
        "import os\n",
        "import re\n",
        "import dgl\n",
        "import nltk\n",
        "import time\n",
        "import math\n",
        "import pickle\n",
        "import random\n",
        "import word2vec\n",
        "import collections\n",
        "import numpy as np\n",
        "import torch as th\n",
        "import pandas as pd\n",
        "from datetime import datetime\n",
        "import matplotlib.pyplot as plt\n",
        "from gensim.models import FastText\n",
        "from gensim.models import Word2Vec\n",
        "from torch.nn import functional as F\n",
        "from sklearn.model_selection import train_test_split  # for train and dev set split\n",
        "\n",
        "\n",
        "'''\n",
        "nltk.download('punkt')\n",
        "nltk.download('tagsets')\n",
        "nltk.download('averaged_perceptron_tagger')\n",
        "nltk.download('stopwords')\n",
        "'''\n",
        "from dgl.nn import GATConv\n",
        "from nltk.corpus import stopwords\n",
        "from nltk.tokenize import word_tokenize\n",
        "\n",
        "\n",
        "\n",
        "\n",
        "# Set Random Seed\n",
        "SEED = 42\n",
        "th.manual_seed(SEED)\n",
        "th.cuda.manual_seed(SEED)\n",
        "random.seed(SEED)\n",
        "\n",
        "# Set Common Path\n",
        "COMMON_PATH = \"/Users/hshuaifile\""
      ]
    },
    {
      "cell_type": "markdown",
      "source": [
        "#Prepare data"
      ],
      "metadata": {
        "id": "sWrFNsTUxYI8"
      }
    },
    {
      "cell_type": "code",
      "source": [
        "# Remove stop words and limite the max length in sentence sample.\n",
        "def PrepareData(num_article, max_length=300):\n",
        "  sentences = []\n",
        "  Cleaned_ECN3K_PATH = f\"{COMMON_PATH}/Word2Vec/data/NovelsOrganized3K\"\n",
        "  all_file = os.listdir(Cleaned_ECN3K_PATH)\n",
        "  for i in range(len(all_file)):\n",
        "    with open(f\"{Cleaned_ECN3K_PATH}/{all_file[i]}\", \"r\") as f:\n",
        "      data = f.read()\n",
        "    temp = re.split(r\"[.!?]\", data)\n",
        "    if len(temp) > max_length: temp = temp[:max_length]\n",
        "    if len(temp) == 0: continue\n",
        "\n",
        "    sentences.extend(temp)\n",
        "    if i==num_article:\n",
        "      break\n",
        "\n",
        "  str_sent = \" \".join(sentences)\n",
        "  word_list = re.split(r\" \", str_sent.strip())\n",
        "  word_list = [w for w in word_list if len(w)>0]\n",
        "  vocab = list(set(word_list))\n",
        "  vocab_size = len(vocab)\n",
        "  idx2word = {i:w for i, w in enumerate(vocab)}\n",
        "  word2idx = {w:i for i, w in enumerate(vocab)}\n",
        "\n",
        "  print(f\"All Articles: {num_article}\")\n",
        "  print(f\"All Sentences: {len(sentences)}\")\n",
        "  print(f\"All Words:{len(word_list)}\")\n",
        "  print(f\"Vocab Size: {vocab_size}\")\n",
        "  \n",
        "  return sentences, vocab, vocab_size, word_list, idx2word, word2idx  # sentences=[\"you are right\", \"yes, i am right\", ...]\n",
        "\n",
        "def Token(text, word2idx):\n",
        "  temp = re.split(r\" \", text.strip())\n",
        "  return [word2idx[t] for t in temp if len(t)>0]  # [17, 66, 888, 182, ...]\n",
        "\n",
        "def Batch(sentences, vocab, vocab_size, word_list, word2idx, nega_sample_size=5, batch_size=2):\n",
        "  word_list = [word2idx[w] for w in word_list]\n",
        "  '''\n",
        "  word_counts = collections.Counter(word_list)\n",
        "  total_words = sum(word_counts.values())\n",
        "  word_freq = {word:count/total_words for word, count in word_counts.items()}\n",
        "  words = list(word_freq.keys())\n",
        "  freqs = list(word_freq.values())\n",
        "  new_p = np.power(freqs, 0.75)\n",
        "  new_p /= np.sum(new_p)\n",
        "  ''' \n",
        "\n",
        "  all_token = [Token(sen, word2idx) for sen in sentences]  # [[1,2,3], [4,5,6], ...]\n",
        "  vocab_id = [i for i in range(len(vocab))]\n",
        "  # Create new word pair\n",
        "  all_target_word = []\n",
        "  all_rcontext_word = []  # Next word predict (right)\n",
        "  all_negative_word = []\n",
        "\n",
        "  for temp in all_token:\n",
        "    if len(temp)>=4:\n",
        "      for i, w in enumerate(temp):\n",
        "        if i != 0 and i%2==0:\n",
        "          tw = [t for t in temp[:i]]\n",
        "          all_target_word.append(tw)\n",
        "          all_rcontext_word.append(temp[len(tw)])\n",
        "    else:\n",
        "      continue\n",
        "\n",
        "  train_number = len(all_target_word)\n",
        "\n",
        "  for i in range(train_number):\n",
        "    neg_samples = []\n",
        "    while len(neg_samples) < nega_sample_size:\n",
        "      sample = random.randint(0, vocab_size-1)\n",
        "      if sample != all_rcontext_word[i] and sample not in neg_samples:\n",
        "        neg_samples.append(sample)\n",
        "\n",
        "    all_negative_word.append(neg_samples)\n",
        "  all_negative_word = np.array(all_negative_word)\n",
        "\n",
        "  batched_target_word = []\n",
        "  batched_rcontext_word = []\n",
        "  batched_negative_word = []\n",
        "  for i in range(0, train_number, batch_size):\n",
        "    batched_target_word.append(all_target_word[i:i+batch_size])\n",
        "    batched_rcontext_word.append(all_rcontext_word[i:i+batch_size])\n",
        "    batched_negative_word.append(all_negative_word[i:i+batch_size])\n",
        "  \n",
        "  print(f\"All Training Sample: {train_number}\")\n",
        "  print(f\"All Batched Number: {len(batched_rcontext_word)}\")\n",
        "\n",
        "  return batched_target_word, batched_rcontext_word, batched_negative_word\n",
        "\n"
      ],
      "metadata": {
        "id": "vv4_3j-QyLgY"
      },
      "execution_count": 2,
      "outputs": []
    },
    {
      "cell_type": "markdown",
      "source": [
        "#Model"
      ],
      "metadata": {
        "id": "Q5eXo5wroM0Y"
      }
    },
    {
      "cell_type": "code",
      "source": [
        "class GATLayer(th.nn.Module):\n",
        "  def __init__(self, in_dim, hidden_dim):\n",
        "    super(GATLayer, self).__init__()\n",
        "    self.feat_drop = 0.2\n",
        "    self.attn_drop = 0.2\n",
        "    self.gat_layer = GATConv(in_dim, hidden_dim, 2, self.feat_drop, self.attn_drop, activation=F.relu)\n",
        "\n",
        "  def forward(self, g, inputs):\n",
        "    inputs = self.gat_layer(g, inputs)\n",
        "    h = inputs.mean(1)\n",
        "    \n",
        "    return h\n",
        "\n",
        "\n",
        "class GraphCoarsing(th.nn.Module):\n",
        "  def __init__(self, in_dim, hidden_dim, device):\n",
        "    super(GraphCoarsing, self).__init__()\n",
        "    self.gat = GATLayer(in_dim, hidden_dim)\n",
        "    self.device = device\n",
        "    self.gram = 1\n",
        "  \n",
        "  def AddEdges(self, n):  # For Pooling graph\n",
        "    edges = []\n",
        "    for i in range(n):\n",
        "      for j in range(max(0, i-self.gram), min(i + self.gram + 1, n)):  # Directed graph\n",
        "        edges.append([i, j])\n",
        "    \n",
        "    return edges\n",
        "\n",
        "  def BuildGraph(self, node_hidden):\n",
        "    n = len(node_hidden)\n",
        "    u, v = zip(*self.AddEdges(n))\n",
        "    g = dgl.graph((u, v), num_nodes=n).to(self.device)\n",
        "    g.ndata['h'] =  node_hidden\n",
        "\n",
        "    return g\n",
        "  \n",
        "  def forward(self, node_hidden):\n",
        "    g = []\n",
        "    for t in node_hidden:\n",
        "      g.append(self.BuildGraph(t))\n",
        "    batch_g = dgl.batch(g)\n",
        "    batch_g.ndata['h'] = self.gat(batch_g, batch_g.ndata['h']) # Update node embedding\n",
        "    \n",
        "    return dgl.mean_nodes(batch_g, feat='h')\n",
        "\n",
        "\n",
        "class SkipGramNegSampling(th.nn.Module):\n",
        "  def __init__(self, vocab_size, emb_dim, device):\n",
        "    super(SkipGramNegSampling, self).__init__()\n",
        "    self.device = device\n",
        "    self.emb_dim = emb_dim\n",
        "    self.target_embedding = th.nn.Embedding(vocab_size, emb_dim)\n",
        "    self.context_embedding = th.nn.Embedding(vocab_size, emb_dim)\n",
        "    self.coarsening = GraphCoarsing(emb_dim, emb_dim, device)\n",
        "\n",
        "  def forward(self, target_word, context_word, negative_words):\n",
        "    target_emb = []\n",
        "    for target in target_word:\n",
        "      temp_target_emb = self.target_embedding(th.tensor(target).to(self.device))\n",
        "      target_emb.append(temp_target_emb)\n",
        "    target_new = self.coarsening(target_emb)\n",
        "\n",
        "    context_emb = self.context_embedding(th.tensor(context_word).to(self.device))\n",
        "    negative_emb = self.context_embedding(th.tensor(negative_words).to(self.device))\n",
        "\n",
        "\n",
        "    # Calculate loss\n",
        "    context_score = th.sum(th.mul(target_new, context_emb).squeeze(), dim=1)\n",
        "    negative_score = th.bmm(negative_emb, target_new.unsqueeze(2)).squeeze()\n",
        "    loss = th.mean(th.sum(F.logsigmoid(context_score))) + th.mean(th.sum(F.logsigmoid(-1*negative_score)))\n",
        "    \n",
        "    return -loss"
      ],
      "metadata": {
        "id": "UJD5rMD7oPyl"
      },
      "execution_count": 3,
      "outputs": []
    },
    {
      "cell_type": "markdown",
      "source": [
        "#Run Experiment"
      ],
      "metadata": {
        "id": "cFj8NEQTxApY"
      }
    },
    {
      "cell_type": "markdown",
      "source": [
        "##Train"
      ],
      "metadata": {
        "id": "Hf55b7RAyCV9"
      }
    },
    {
      "cell_type": "code",
      "source": [
        "def Train(model, epoch, target, rcontext, negative, emb_dim, num_article, device):\n",
        "  optimizer = th.optim.Adam(model.parameters(), lr=1e-3, weight_decay=1e-2)\n",
        "  #scheduler_lr = th.optim.lr_scheduler.LambdaLR(optimizer,lr_lambda = lambda epoch:0.1 * epoch)\n",
        "  all_loss = []\n",
        "\n",
        "  for e in range(epoch):\n",
        "    step = 0\n",
        "    temp_loss = []\n",
        "    for i in range(len(target)):\n",
        "      step +=1\n",
        "      optimizer.zero_grad()\n",
        "      loss = model(target[i], rcontext[i], negative[i])\n",
        "      loss.backward()\n",
        "      optimizer.step()\n",
        "      #scheduler_lr.step()\n",
        "\n",
        "      if (step+1)%800==0:\n",
        "        print(f\"{e+1}/{epoch}, step={step+1}, loss={loss.item():.2f}\")\n",
        "      temp_loss.append(loss.item())\n",
        "    all_loss.append(np.mean(temp_loss))\n",
        "\n",
        "  \n",
        "  now_time = datetime.now()\n",
        "  t = re.sub(r' |:|\\.', '-', str(now_time))\n",
        "  df = pd.DataFrame({\"loss\":all_loss})\n",
        "  df.to_csv(f\"{COMMON_PATH}/Word2Vec/model/loss_acc/loss-{t}_{emb_dim}_{num_article}.csv\", index=False)\n",
        "\n",
        "  return model\n",
        "\n"
      ],
      "metadata": {
        "id": "EPEBsh9Bf0ZB"
      },
      "execution_count": 6,
      "outputs": []
    },
    {
      "cell_type": "markdown",
      "source": [
        "##Run"
      ],
      "metadata": {
        "id": "TPK3OwLayPJg"
      }
    },
    {
      "cell_type": "code",
      "source": [
        "# Set Training Device\n",
        "DEVICE = th.device('cuda:0' if th.cuda.is_available() else 'cpu')\n",
        "if th.cuda.is_available():\n",
        "  print(f'device: {DEVICE}')\n",
        "  print(f'name: {th.cuda.get_device_name(0)}')\n",
        "  print(f'='*50)\n",
        "\n",
        "!rm /Users/hshuaifile/Word2Vec/model/loss_acc/*\n",
        "\n",
        "\n",
        "def SaveEmbedding(model, emb_dim, num_article):\n",
        "  dir_path = f\"{COMMON_PATH}/Word2Vec/data/trainedembedding\"\n",
        "  filename = f\"{dir_path}/myw2v_{emb_dim}_{num_article}.pth\"\n",
        "  embedding1 = model.target_embedding.weight.detach().cpu().numpy()\n",
        "  embedding2 = model.context_embedding.weight.detach().cpu().numpy()\n",
        "  embedding = (0.8*embedding1 + 0.2*embedding2)\n",
        "  th.save(embedding, filename)\n",
        "  print(\"Embedding Saved!\")\n",
        "\n",
        "def SaveWord2Idx(word2idx, emb_dim, num_article):\n",
        "  dir_path = f\"{COMMON_PATH}/Word2Vec/data/trainedembedding\"\n",
        "  with open(f\"{dir_path}/myw2v_{emb_dim}_{num_article}.pickle\", 'wb') as handle:\n",
        "    pickle.dump(word2idx, handle, protocol=pickle.HIGHEST_PROTOCOL)\n",
        "\n",
        "\n",
        "epoch = 2\n",
        "emb_dim =300  # 300, 100,50\n",
        "num_article = 100 # 100, 500, 1000, 3395\n",
        "\n",
        "t0 = time.time()\n",
        "print(f\"emb_dim:{emb_dim}\")\n",
        "sentences, vocab, vocab_size, word_list, idx2word, word2idx = PrepareData(num_article)\n",
        "target, rcontext, negative = Batch(sentences, vocab, vocab_size, word_list, word2idx, nega_sample_size=5, batch_size=64)\n",
        "print(f\"Prepare Data and Batch Using Time: {(time.time()-t0)/60:.2f}m\")\n",
        "print(f\"=\"*50)\n",
        "\n",
        "model = SkipGramNegSampling(vocab_size, emb_dim, DEVICE)\n",
        "model.to(DEVICE)\n",
        "new_model = Train(model, epoch, target, rcontext, negative, emb_dim, num_article, DEVICE)\n",
        "\n",
        "SaveEmbedding(new_model, emb_dim, num_article)\n",
        "SaveWord2Idx(word2idx, emb_dim, num_article)\n",
        "\n",
        "print(f\"All Time Using: {(time.time()-t0)/3600:.2f}h\")\n",
        "print(\"=\"*50)"
      ],
      "metadata": {
        "colab": {
          "base_uri": "https://localhost:8080/"
        },
        "id": "bYFGoQTCyRo8",
        "outputId": "43b9e1c9-dfac-4925-85be-59d896b53259"
      },
      "execution_count": 8,
      "outputs": [
        {
          "output_type": "stream",
          "name": "stdout",
          "text": [
            "device: cuda:0\n",
            "name: NVIDIA GeForce RTX 3090\n",
            "==================================================\n",
            "emb_dim:300\n",
            "All Articles: 100\n",
            "All Sentences: 16093\n",
            "All Words:458886\n",
            "Vocab Size: 22194\n",
            "All Training Sample: 217277\n",
            "All Batched Number: 3395\n",
            "Prepare Data and Batch Using Time: 0.03m\n",
            "==================================================\n",
            "1/2, step=800, loss=253.32\n",
            "1/2, step=1600, loss=146.51\n",
            "1/2, step=2400, loss=78.95\n",
            "1/2, step=3200, loss=78.40\n",
            "2/2, step=800, loss=86.24\n",
            "2/2, step=1600, loss=63.30\n",
            "2/2, step=2400, loss=66.38\n",
            "2/2, step=3200, loss=72.09\n",
            "Embedding Saved!\n",
            "All Time Using: 0.11h\n",
            "==================================================\n"
          ]
        }
      ]
    },
    {
      "cell_type": "markdown",
      "source": [
        "#Result Plot"
      ],
      "metadata": {
        "id": "9Ali74BOspEo"
      }
    },
    {
      "cell_type": "markdown",
      "source": [
        "##Loss Over Epoch"
      ],
      "metadata": {
        "id": "-NLsYu02tX43"
      }
    },
    {
      "cell_type": "code",
      "source": [
        "def ReadAllResult():\n",
        "  all_loss = []\n",
        "  all_file = os.listdir(f\"{COMMON_PATH}/Word2Vec/model/loss_acc\")\n",
        "  df = pd.read_csv(f\"{COMMON_PATH}/Word2Vec/model/loss_acc/{all_file[0]}\")\n",
        "  all_loss.append(df[\"loss\"])\n",
        "  \n",
        "  return all_loss\n",
        "\n",
        "\n",
        "all_loss = ReadAllResult()\n",
        "#print(all_loss)\n",
        "x = [i for i in range(len(all_loss[0]))]\n",
        "\n",
        "fig = plt.figure(figsize=(8,5), dpi=100)\n",
        "ax1 = fig.add_subplot(1, 1, 1)\n",
        "\n",
        "plt.ylabel(\"Train loss\")\n",
        "plt.xlabel(\"Epoch\")\n",
        "plt.title(\"Train loss over Epoch\")\n",
        "ax1.plot(x, all_loss[0], '.-', label=\"loss\")\n",
        "\n",
        "#plt.savefig(f\"{COMMON_PATH}/Word2Vec/model/fig/train_myw2v50d1000a_loss.pdf\", bbox_inches=\"tight\")\n",
        "plt.show()"
      ],
      "metadata": {
        "id": "pKgjp0zGsrwr",
        "colab": {
          "base_uri": "https://localhost:8080/",
          "height": 485
        },
        "outputId": "596661a1-4117-428c-83c7-17223dee1abb"
      },
      "execution_count": 10,
      "outputs": [
        {
          "output_type": "display_data",
          "data": {
            "text/plain": [
              "<Figure size 800x500 with 1 Axes>"
            ],
            "image/png": "[encoded data removed]"
          },
          "metadata": {}
        }
      ]
    },
    {
      "cell_type": "markdown",
      "source": [
        "## Running Time"
      ],
      "metadata": {
        "id": "mS1OgIz-KFDd"
      }
    },
    {
      "cell_type": "code",
      "source": [
        "x = [\"CBOW+GAT\", \"Skip-gram+GAT\", \"FastText+GAT\", \"Ours+GAT\"]\n",
        "y_50d_100a = [5.6, 4.6, 5.2, 2.6]\n",
        "y_50d_500a = [6.1, 4.9, 7.6, 2.7]\n",
        "y_50d_1000a = [6.5, 5.1, 7.8, 3.2]\n",
        "y_50d_3395a = [7.4, 5.2, 8.5, 2.5]\n",
        "\n",
        "\n",
        "fig = plt.figure(figsize=(8,5), dpi=100)\n",
        "ax1 = fig.add_subplot(1, 1, 1)\n",
        "\n",
        "plt.ylabel(\"Time\")\n",
        "plt.xlabel(\"Model\")\n",
        "plt.title(\"Classifier Running Time\")\n",
        "\n",
        "ax1.plot(x, y_50d_100a, '.-', label=\"50d100a\")\n",
        "ax1.plot(x, y_50d_500a, '-x', label=\"50d500a\")\n",
        "ax1.plot(x, y_50d_1000a, '-<', label=\"50d1000a\")\n",
        "ax1.plot(x, y_50d_3395a, '->', label=\"50d3395a\")\n",
        "\n",
        "plt.legend()\n",
        "#plt.savefig(f\"{COMMON_PATH}/Word2Vec/model/fig/runningTime_50d1000a.pdf\", bbox_inches=\"tight\")\n",
        "plt.show()"
      ],
      "metadata": {
        "colab": {
          "base_uri": "https://localhost:8080/",
          "height": 485
        },
        "id": "SmPSfrDlKKca",
        "outputId": "d4831d63-d212-4f8f-cab2-d6d6c25df704"
      },
      "execution_count": null,
      "outputs": [
        {
          "output_type": "display_data",
          "data": {
            "text/plain": [
              "<Figure size 800x500 with 1 Axes>"
            ],
            "image/png": "[encoded data removed]"
          },
          "metadata": {}
        }
      ]
    },
    {
      "cell_type": "markdown",
      "source": [
        "# Miscellaneous"
      ],
      "metadata": {
        "id": "qKm-w9vJhgur"
      }
    },
    {
      "cell_type": "markdown",
      "source": [
        "##Check"
      ],
      "metadata": {
        "id": "OhpbMfbPtOWx"
      }
    },
    {
      "cell_type": "code",
      "source": [
        "def LoadEmbedding(filename):\n",
        "  return th.load(filename)\n",
        "\n",
        "def cos_similarity(vec1,vec2):\n",
        "  dot_product = th.dot(vec1, vec2)\n",
        "  norm1 = th.norm(vec1, 2)\n",
        "  norm2 = th.norm(vec2, 2)\n",
        "  similarity = dot_product / (norm1*norm2)\n",
        "\n",
        "  return similarity\n",
        "\n",
        "model1 = th.load(f\"{COMMON_PATH}/Word2Vec/data/trainedembedding/myw2v_300_100.pth\")\n",
        "with open(f\"{COMMON_PATH}/Word2Vec/data/trainedembedding/myw2v_300_100.pickle\", 'rb') as handle:\n",
        "  myword2idx = pickle.load(handle)\n",
        "\n",
        "check_word = \"pistol\"\n",
        "\n",
        "all_sim_value = []\n",
        "all_sim_word = []\n",
        "v1 = model1[myword2idx[check_word]]\n",
        "print(v1)\n",
        "for word in myword2idx.keys():\n",
        "  if word!=check_word:\n",
        "    v2 = model1[myword2idx[word]]\n",
        "    all_sim_value.append(cos_similarity(th.tensor(v1),th.tensor(v2)))\n",
        "    all_sim_word.append(word)\n",
        "\n",
        "temp = zip(all_sim_value, all_sim_word)\n",
        "b = sorted(temp,reverse=True)\n",
        "print(b[:10])\n",
        "  \n"
      ],
      "metadata": {
        "id": "C9gNstCyZgws",
        "colab": {
          "base_uri": "https://localhost:8080/"
        },
        "outputId": "0c4e36a6-e28e-450e-e4a8-5614782de7fd"
      },
      "execution_count": 9,
      "outputs": [
        {
          "output_type": "stream",
          "name": "stdout",
          "text": [
            "[ 1.75507588e-03 -4.00858524e-04 -2.73402850e-03 -1.09849432e-04\n",
            "  7.12525889e-06  6.64298454e-07 -1.08173583e-03 -7.50121486e-04\n",
            " -3.06829752e-05  6.53365787e-05 -4.37480077e-04 -7.98831970e-05\n",
            " -4.42048913e-04 -1.06922716e-05 -2.60260864e-03 -6.68246357e-05\n",
            " -7.56913389e-04 -9.52617629e-05  1.25839747e-03 -7.35981375e-05\n",
            " -1.09479566e-04  6.76109048e-04 -1.78446266e-04 -7.11067766e-03\n",
            " -4.27768187e-04 -7.69477410e-05 -1.43518928e-03 -1.29914290e-04\n",
            " -1.63319492e-05 -6.54114410e-03 -7.73331337e-03 -3.46743727e-05\n",
            " -1.39087287e-03  6.17985846e-04 -7.13147310e-05  5.20359434e-04\n",
            " -3.76107782e-04 -3.92031297e-03 -1.60147247e-04 -3.03678699e-02\n",
            "  6.65469386e-04  3.20384133e-04 -2.67524938e-05  7.81213050e-04\n",
            " -1.06502569e-06 -1.90313219e-03 -2.55347434e-02  2.87685520e-03\n",
            "  3.82936007e-04  5.10925148e-03 -3.69463851e-05 -1.31557288e-04\n",
            " -7.85508091e-05 -1.87582642e-04 -6.03810440e-05 -3.04377143e-04\n",
            " -1.21168967e-03 -4.76396410e-03 -1.06968721e-04 -2.88173615e-04\n",
            " -2.67705764e-04 -7.09635962e-04 -2.86407558e-05 -1.36530682e-04\n",
            " -2.15976950e-04  1.97370583e-03 -2.45623700e-02 -1.13823444e-04\n",
            "  1.55198202e-03 -1.38098921e-03 -9.60654288e-04 -9.79709366e-05\n",
            "  1.45133340e-03 -8.27732401e-06 -1.54902838e-04 -6.13133234e-05\n",
            " -1.52429508e-03 -8.87921124e-05 -2.67104369e-05 -6.21244180e-05\n",
            " -6.79634570e-04 -1.52504319e-04 -1.15927970e-02 -4.41911211e-03\n",
            " -4.12415620e-03 -1.53801474e-03 -3.58939345e-04 -8.95639369e-06\n",
            " -6.51025388e-04 -3.01778404e-04 -5.27202064e-05 -2.08251178e-03\n",
            " -3.50009874e-02 -1.15572684e-03 -1.19973556e-04 -5.98800485e-04\n",
            "  7.73224838e-06 -1.07032945e-04  3.28748580e-03 -1.18677633e-06\n",
            " -2.71760277e-03  4.08962602e-03 -3.21362391e-02 -1.50735199e-03\n",
            " -5.14614070e-03 -1.00488076e-04  2.88316165e-03 -2.68456098e-02\n",
            "  1.42240000e-03  8.54698417e-04 -5.16139786e-04  9.84258731e-05\n",
            " -2.11742544e-03 -2.64246395e-04 -5.87345508e-04 -2.39527035e-05\n",
            " -1.73481258e-05 -1.98049805e-04 -2.79993255e-04 -2.59596552e-03\n",
            " -2.28490724e-04 -1.00667391e-03 -7.32209184e-04 -4.19950011e-05\n",
            " -2.13262192e-05 -5.57350402e-04 -1.88374938e-03 -5.97918127e-03\n",
            " -1.26600207e-04 -7.15824589e-03  1.15187676e-03  1.33325811e-03\n",
            " -7.97363682e-05 -1.91944680e-04 -1.56457390e-04 -8.05838426e-05\n",
            " -4.10073670e-04 -4.13855269e-05 -1.61815755e-04 -4.74575488e-03\n",
            "  8.12033541e-04 -3.87164968e-04 -2.17594119e-04 -1.78697301e-04\n",
            " -8.65052571e-04 -2.20670845e-05  1.13586166e-05 -2.58208980e-04\n",
            " -8.52089282e-03  1.88019243e-03 -2.26139746e-05  2.05695222e-04\n",
            " -1.09061650e-04 -8.29651428e-04 -9.39397328e-03 -4.91512427e-03\n",
            " -2.24585440e-02 -2.31193360e-02 -5.20329813e-05 -1.82024576e-03\n",
            " -4.20568285e-05 -2.07927194e-04 -3.94572562e-05 -6.10006027e-05\n",
            " -1.29322589e-05 -2.78569246e-03 -9.97310872e-06 -2.56690825e-03\n",
            " -9.46761400e-04 -3.19049694e-03 -5.46420785e-03 -7.13833797e-05\n",
            " -4.92298823e-05 -3.68457841e-04  6.46636036e-05 -3.49250786e-06\n",
            "  5.89132484e-04 -9.62254944e-06 -6.17876503e-05 -9.39885467e-06\n",
            "  1.11979051e-02 -1.59330259e-04 -2.35510161e-05 -2.90444905e-06\n",
            " -2.02216092e-04 -7.65593769e-03  2.80692184e-05 -1.71357504e-04\n",
            " -1.15243043e-03 -4.70802188e-03  1.39984023e-03 -1.01144404e-04\n",
            " -2.13496562e-04 -6.04280031e-05 -9.82816982e-06 -2.21082591e-05\n",
            " -1.21665129e-04 -6.41384441e-03 -1.62989309e-04 -1.49773108e-03\n",
            " -5.12114866e-03 -1.17116186e-04 -1.03454140e-05 -4.64727418e-06\n",
            " -3.84620158e-04  5.03400806e-05  3.85462446e-03 -6.02815489e-05\n",
            " -5.80491265e-04  2.85274495e-04 -1.80174160e-04 -3.02601838e-03\n",
            " -6.16842517e-05  6.77573098e-06  1.59060191e-02  5.36128255e-06\n",
            " -8.25656927e-04 -1.45167243e-04 -8.35738087e-04 -1.67603430e-04\n",
            "  7.17945222e-05 -3.36345943e-06 -3.81263962e-04 -1.70207042e-02\n",
            " -5.51522570e-03 -8.06330718e-05 -1.97436020e-04 -1.15327805e-03\n",
            " -3.64628341e-03 -1.63065080e-04 -1.28609315e-02 -3.34413380e-05\n",
            " -5.17083354e-05 -6.74750051e-03 -4.45560523e-04 -4.86348232e-04\n",
            " -9.82233672e-04 -2.73872545e-04 -6.73801551e-05 -9.87530730e-05\n",
            " -4.65800578e-04 -6.15790393e-03 -1.38383207e-03 -1.59151765e-04\n",
            " -8.38954220e-05 -9.51334834e-03 -1.24781916e-04 -1.10248606e-04\n",
            " -6.35860721e-03 -1.28909451e-04 -4.39764140e-03 -9.23836697e-03\n",
            " -1.46629158e-04 -3.79878002e-05 -5.65257906e-05 -5.34400763e-03\n",
            "  3.60695820e-04 -2.44891009e-04 -2.09701410e-03 -4.38975636e-04\n",
            " -5.83810797e-05 -8.04482988e-06  1.22056725e-02 -5.22518472e-04\n",
            "  4.68121236e-03  4.66085730e-05 -1.14920700e-03 -4.97313558e-05\n",
            " -1.29594366e-04 -2.36826862e-04  5.05199563e-03 -9.89348348e-03\n",
            " -1.46652777e-02 -1.27187988e-03 -1.34995312e-03 -8.32231308e-05\n",
            "  1.75593887e-03 -5.75012527e-05 -1.23981255e-04 -1.89192258e-04\n",
            " -9.52368695e-03 -3.12976917e-04 -5.45823888e-04 -1.30825327e-03\n",
            " -1.72580767e-05  4.55094996e-05 -8.81085434e-05 -3.79837256e-05\n",
            " -5.31505757e-05 -1.64870435e-04 -2.07500416e-03 -6.61365804e-04\n",
            " -1.84361066e-03 -2.88350973e-04 -6.00294734e-04 -8.24681119e-05\n",
            "  2.24309133e-05 -4.13811031e-05 -8.39521745e-05 -1.24686310e-04]\n",
            "[(tensor(0.7687), 'web'), (tensor(0.7663), 'evolved'), (tensor(0.7643), 'portrait'), (tensor(0.7600), 'endeavours'), (tensor(0.7559), 'wicket'), (tensor(0.7513), 'attemper'), (tensor(0.7509), 'dejected'), (tensor(0.7502), 'cockle'), (tensor(0.7499), 'dumping'), (tensor(0.7469), 'rewards')]\n"
          ]
        }
      ]
    },
    {
      "cell_type": "markdown",
      "source": [
        "##Debug"
      ],
      "metadata": {
        "id": "ll649YJ8hp7H"
      }
    },
    {
      "cell_type": "code",
      "source": [
        "loss = [0.1,0.2]\n",
        "avg = np.mean(loss)\n",
        "type(avg)\n",
        "\n"
      ],
      "metadata": {
        "id": "YBndm2-QzXz_",
        "colab": {
          "base_uri": "https://localhost:8080/"
        },
        "outputId": "b0e408fb-e21c-4deb-d0a9-d66a5d7692b6"
      },
      "execution_count": null,
      "outputs": [
        {
          "output_type": "execute_result",
          "data": {
            "text/plain": [
              "numpy.float64"
            ]
          },
          "metadata": {},
          "execution_count": 88
        }
      ]
    }
  ]
}